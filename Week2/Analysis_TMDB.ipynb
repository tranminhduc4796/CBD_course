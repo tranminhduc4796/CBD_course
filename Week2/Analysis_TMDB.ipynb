{
 "cells": [
  {
   "cell_type": "markdown",
   "metadata": {},
   "source": [
    "# Introduction\n",
    "This is an analysis report for TMDB dataset. TMDB itself is a research on movies to detect what influence movies' revenue. "
   ]
  },
  {
   "cell_type": "markdown",
   "metadata": {},
   "source": [
    "# Objective\n",
    "In this report, we try to answer 3 questions:\n",
    "1. What areas have the most influence on revenue.\n",
    "2. How is a revenue and average score affected by its genre.\n",
    "3. What influence does release date have on revenue."
   ]
  },
  {
   "cell_type": "markdown",
   "metadata": {},
   "source": [
    "### Package used"
   ]
  },
  {
   "cell_type": "code",
   "execution_count": 1,
   "metadata": {},
   "outputs": [
    {
     "data": {
      "text/html": [
       "<script>requirejs.config({paths: { 'plotly': ['https://cdn.plot.ly/plotly-latest.min']},});if(!window.Plotly) {{require(['plotly'],function(plotly) {window.Plotly=plotly;});}}</script>"
      ],
      "text/vnd.plotly.v1+html": [
       "<script>requirejs.config({paths: { 'plotly': ['https://cdn.plot.ly/plotly-latest.min']},});if(!window.Plotly) {{require(['plotly'],function(plotly) {window.Plotly=plotly;});}}</script>"
      ]
     },
     "metadata": {},
     "output_type": "display_data"
    }
   ],
   "source": [
    "import pandas as pd\n",
    "import plotly.graph_objs as go\n",
    "import plotly\n",
    "from plotly.offline import init_notebook_mode, iplot\n",
    "init_notebook_mode(connected=True)"
   ]
  },
  {
   "cell_type": "markdown",
   "metadata": {},
   "source": [
    "### Load data"
   ]
  },
  {
   "cell_type": "code",
   "execution_count": 2,
   "metadata": {
    "scrolled": true
   },
   "outputs": [
    {
     "data": {
      "text/html": [
       "<div>\n",
       "<style scoped>\n",
       "    .dataframe tbody tr th:only-of-type {\n",
       "        vertical-align: middle;\n",
       "    }\n",
       "\n",
       "    .dataframe tbody tr th {\n",
       "        vertical-align: top;\n",
       "    }\n",
       "\n",
       "    .dataframe thead th {\n",
       "        text-align: right;\n",
       "    }\n",
       "</style>\n",
       "<table border=\"1\" class=\"dataframe\">\n",
       "  <thead>\n",
       "    <tr style=\"text-align: right;\">\n",
       "      <th></th>\n",
       "      <th>budget</th>\n",
       "      <th>genres</th>\n",
       "      <th>homepage</th>\n",
       "      <th>id</th>\n",
       "      <th>keywords</th>\n",
       "      <th>original_language</th>\n",
       "      <th>original_title</th>\n",
       "      <th>overview</th>\n",
       "      <th>popularity</th>\n",
       "      <th>production_companies</th>\n",
       "      <th>production_countries</th>\n",
       "      <th>release_date</th>\n",
       "      <th>revenue</th>\n",
       "      <th>runtime</th>\n",
       "      <th>spoken_languages</th>\n",
       "      <th>status</th>\n",
       "      <th>tagline</th>\n",
       "      <th>title</th>\n",
       "      <th>vote_average</th>\n",
       "      <th>vote_count</th>\n",
       "    </tr>\n",
       "  </thead>\n",
       "  <tbody>\n",
       "    <tr>\n",
       "      <th>0</th>\n",
       "      <td>237000000</td>\n",
       "      <td>[{\"id\": 28, \"name\": \"Action\"}, {\"id\": 12, \"nam...</td>\n",
       "      <td>http://www.avatarmovie.com/</td>\n",
       "      <td>19995</td>\n",
       "      <td>[{\"id\": 1463, \"name\": \"culture clash\"}, {\"id\":...</td>\n",
       "      <td>en</td>\n",
       "      <td>Avatar</td>\n",
       "      <td>In the 22nd century, a paraplegic Marine is di...</td>\n",
       "      <td>150.437577</td>\n",
       "      <td>[{\"name\": \"Ingenious Film Partners\", \"id\": 289...</td>\n",
       "      <td>[{\"iso_3166_1\": \"US\", \"name\": \"United States o...</td>\n",
       "      <td>2009-12-10</td>\n",
       "      <td>2787965087</td>\n",
       "      <td>162.0</td>\n",
       "      <td>[{\"iso_639_1\": \"en\", \"name\": \"English\"}, {\"iso...</td>\n",
       "      <td>Released</td>\n",
       "      <td>Enter the World of Pandora.</td>\n",
       "      <td>Avatar</td>\n",
       "      <td>7.2</td>\n",
       "      <td>11800</td>\n",
       "    </tr>\n",
       "    <tr>\n",
       "      <th>1</th>\n",
       "      <td>300000000</td>\n",
       "      <td>[{\"id\": 12, \"name\": \"Adventure\"}, {\"id\": 14, \"...</td>\n",
       "      <td>http://disney.go.com/disneypictures/pirates/</td>\n",
       "      <td>285</td>\n",
       "      <td>[{\"id\": 270, \"name\": \"ocean\"}, {\"id\": 726, \"na...</td>\n",
       "      <td>en</td>\n",
       "      <td>Pirates of the Caribbean: At World's End</td>\n",
       "      <td>Captain Barbossa, long believed to be dead, ha...</td>\n",
       "      <td>139.082615</td>\n",
       "      <td>[{\"name\": \"Walt Disney Pictures\", \"id\": 2}, {\"...</td>\n",
       "      <td>[{\"iso_3166_1\": \"US\", \"name\": \"United States o...</td>\n",
       "      <td>2007-05-19</td>\n",
       "      <td>961000000</td>\n",
       "      <td>169.0</td>\n",
       "      <td>[{\"iso_639_1\": \"en\", \"name\": \"English\"}]</td>\n",
       "      <td>Released</td>\n",
       "      <td>At the end of the world, the adventure begins.</td>\n",
       "      <td>Pirates of the Caribbean: At World's End</td>\n",
       "      <td>6.9</td>\n",
       "      <td>4500</td>\n",
       "    </tr>\n",
       "    <tr>\n",
       "      <th>2</th>\n",
       "      <td>245000000</td>\n",
       "      <td>[{\"id\": 28, \"name\": \"Action\"}, {\"id\": 12, \"nam...</td>\n",
       "      <td>http://www.sonypictures.com/movies/spectre/</td>\n",
       "      <td>206647</td>\n",
       "      <td>[{\"id\": 470, \"name\": \"spy\"}, {\"id\": 818, \"name...</td>\n",
       "      <td>en</td>\n",
       "      <td>Spectre</td>\n",
       "      <td>A cryptic message from Bond’s past sends him o...</td>\n",
       "      <td>107.376788</td>\n",
       "      <td>[{\"name\": \"Columbia Pictures\", \"id\": 5}, {\"nam...</td>\n",
       "      <td>[{\"iso_3166_1\": \"GB\", \"name\": \"United Kingdom\"...</td>\n",
       "      <td>2015-10-26</td>\n",
       "      <td>880674609</td>\n",
       "      <td>148.0</td>\n",
       "      <td>[{\"iso_639_1\": \"fr\", \"name\": \"Fran\\u00e7ais\"},...</td>\n",
       "      <td>Released</td>\n",
       "      <td>A Plan No One Escapes</td>\n",
       "      <td>Spectre</td>\n",
       "      <td>6.3</td>\n",
       "      <td>4466</td>\n",
       "    </tr>\n",
       "    <tr>\n",
       "      <th>3</th>\n",
       "      <td>250000000</td>\n",
       "      <td>[{\"id\": 28, \"name\": \"Action\"}, {\"id\": 80, \"nam...</td>\n",
       "      <td>http://www.thedarkknightrises.com/</td>\n",
       "      <td>49026</td>\n",
       "      <td>[{\"id\": 849, \"name\": \"dc comics\"}, {\"id\": 853,...</td>\n",
       "      <td>en</td>\n",
       "      <td>The Dark Knight Rises</td>\n",
       "      <td>Following the death of District Attorney Harve...</td>\n",
       "      <td>112.312950</td>\n",
       "      <td>[{\"name\": \"Legendary Pictures\", \"id\": 923}, {\"...</td>\n",
       "      <td>[{\"iso_3166_1\": \"US\", \"name\": \"United States o...</td>\n",
       "      <td>2012-07-16</td>\n",
       "      <td>1084939099</td>\n",
       "      <td>165.0</td>\n",
       "      <td>[{\"iso_639_1\": \"en\", \"name\": \"English\"}]</td>\n",
       "      <td>Released</td>\n",
       "      <td>The Legend Ends</td>\n",
       "      <td>The Dark Knight Rises</td>\n",
       "      <td>7.6</td>\n",
       "      <td>9106</td>\n",
       "    </tr>\n",
       "    <tr>\n",
       "      <th>4</th>\n",
       "      <td>260000000</td>\n",
       "      <td>[{\"id\": 28, \"name\": \"Action\"}, {\"id\": 12, \"nam...</td>\n",
       "      <td>http://movies.disney.com/john-carter</td>\n",
       "      <td>49529</td>\n",
       "      <td>[{\"id\": 818, \"name\": \"based on novel\"}, {\"id\":...</td>\n",
       "      <td>en</td>\n",
       "      <td>John Carter</td>\n",
       "      <td>John Carter is a war-weary, former military ca...</td>\n",
       "      <td>43.926995</td>\n",
       "      <td>[{\"name\": \"Walt Disney Pictures\", \"id\": 2}]</td>\n",
       "      <td>[{\"iso_3166_1\": \"US\", \"name\": \"United States o...</td>\n",
       "      <td>2012-03-07</td>\n",
       "      <td>284139100</td>\n",
       "      <td>132.0</td>\n",
       "      <td>[{\"iso_639_1\": \"en\", \"name\": \"English\"}]</td>\n",
       "      <td>Released</td>\n",
       "      <td>Lost in our world, found in another.</td>\n",
       "      <td>John Carter</td>\n",
       "      <td>6.1</td>\n",
       "      <td>2124</td>\n",
       "    </tr>\n",
       "  </tbody>\n",
       "</table>\n",
       "</div>"
      ],
      "text/plain": [
       "      budget                                             genres  \\\n",
       "0  237000000  [{\"id\": 28, \"name\": \"Action\"}, {\"id\": 12, \"nam...   \n",
       "1  300000000  [{\"id\": 12, \"name\": \"Adventure\"}, {\"id\": 14, \"...   \n",
       "2  245000000  [{\"id\": 28, \"name\": \"Action\"}, {\"id\": 12, \"nam...   \n",
       "3  250000000  [{\"id\": 28, \"name\": \"Action\"}, {\"id\": 80, \"nam...   \n",
       "4  260000000  [{\"id\": 28, \"name\": \"Action\"}, {\"id\": 12, \"nam...   \n",
       "\n",
       "                                       homepage      id  \\\n",
       "0                   http://www.avatarmovie.com/   19995   \n",
       "1  http://disney.go.com/disneypictures/pirates/     285   \n",
       "2   http://www.sonypictures.com/movies/spectre/  206647   \n",
       "3            http://www.thedarkknightrises.com/   49026   \n",
       "4          http://movies.disney.com/john-carter   49529   \n",
       "\n",
       "                                            keywords original_language  \\\n",
       "0  [{\"id\": 1463, \"name\": \"culture clash\"}, {\"id\":...                en   \n",
       "1  [{\"id\": 270, \"name\": \"ocean\"}, {\"id\": 726, \"na...                en   \n",
       "2  [{\"id\": 470, \"name\": \"spy\"}, {\"id\": 818, \"name...                en   \n",
       "3  [{\"id\": 849, \"name\": \"dc comics\"}, {\"id\": 853,...                en   \n",
       "4  [{\"id\": 818, \"name\": \"based on novel\"}, {\"id\":...                en   \n",
       "\n",
       "                             original_title  \\\n",
       "0                                    Avatar   \n",
       "1  Pirates of the Caribbean: At World's End   \n",
       "2                                   Spectre   \n",
       "3                     The Dark Knight Rises   \n",
       "4                               John Carter   \n",
       "\n",
       "                                            overview  popularity  \\\n",
       "0  In the 22nd century, a paraplegic Marine is di...  150.437577   \n",
       "1  Captain Barbossa, long believed to be dead, ha...  139.082615   \n",
       "2  A cryptic message from Bond’s past sends him o...  107.376788   \n",
       "3  Following the death of District Attorney Harve...  112.312950   \n",
       "4  John Carter is a war-weary, former military ca...   43.926995   \n",
       "\n",
       "                                production_companies  \\\n",
       "0  [{\"name\": \"Ingenious Film Partners\", \"id\": 289...   \n",
       "1  [{\"name\": \"Walt Disney Pictures\", \"id\": 2}, {\"...   \n",
       "2  [{\"name\": \"Columbia Pictures\", \"id\": 5}, {\"nam...   \n",
       "3  [{\"name\": \"Legendary Pictures\", \"id\": 923}, {\"...   \n",
       "4        [{\"name\": \"Walt Disney Pictures\", \"id\": 2}]   \n",
       "\n",
       "                                production_countries release_date     revenue  \\\n",
       "0  [{\"iso_3166_1\": \"US\", \"name\": \"United States o...   2009-12-10  2787965087   \n",
       "1  [{\"iso_3166_1\": \"US\", \"name\": \"United States o...   2007-05-19   961000000   \n",
       "2  [{\"iso_3166_1\": \"GB\", \"name\": \"United Kingdom\"...   2015-10-26   880674609   \n",
       "3  [{\"iso_3166_1\": \"US\", \"name\": \"United States o...   2012-07-16  1084939099   \n",
       "4  [{\"iso_3166_1\": \"US\", \"name\": \"United States o...   2012-03-07   284139100   \n",
       "\n",
       "   runtime                                   spoken_languages    status  \\\n",
       "0    162.0  [{\"iso_639_1\": \"en\", \"name\": \"English\"}, {\"iso...  Released   \n",
       "1    169.0           [{\"iso_639_1\": \"en\", \"name\": \"English\"}]  Released   \n",
       "2    148.0  [{\"iso_639_1\": \"fr\", \"name\": \"Fran\\u00e7ais\"},...  Released   \n",
       "3    165.0           [{\"iso_639_1\": \"en\", \"name\": \"English\"}]  Released   \n",
       "4    132.0           [{\"iso_639_1\": \"en\", \"name\": \"English\"}]  Released   \n",
       "\n",
       "                                          tagline  \\\n",
       "0                     Enter the World of Pandora.   \n",
       "1  At the end of the world, the adventure begins.   \n",
       "2                           A Plan No One Escapes   \n",
       "3                                 The Legend Ends   \n",
       "4            Lost in our world, found in another.   \n",
       "\n",
       "                                      title  vote_average  vote_count  \n",
       "0                                    Avatar           7.2       11800  \n",
       "1  Pirates of the Caribbean: At World's End           6.9        4500  \n",
       "2                                   Spectre           6.3        4466  \n",
       "3                     The Dark Knight Rises           7.6        9106  \n",
       "4                               John Carter           6.1        2124  "
      ]
     },
     "execution_count": 2,
     "metadata": {},
     "output_type": "execute_result"
    }
   ],
   "source": [
    "data = pd.read_csv('tmdb_5000_movies.csv')\n",
    "data.head()"
   ]
  },
  {
   "cell_type": "code",
   "execution_count": 3,
   "metadata": {
    "scrolled": true
   },
   "outputs": [
    {
     "name": "stdout",
     "output_type": "stream",
     "text": [
      "Features in table:  ['budget', 'genres', 'homepage', 'id', 'keywords', 'original_language', 'original_title', 'overview', 'popularity', 'production_companies', 'production_countries', 'release_date', 'revenue', 'runtime', 'spoken_languages', 'status', 'tagline', 'title', 'vote_average', 'vote_count']\n",
      "\n",
      "Number shape:  (4803, 20)\n",
      "budget type:  int64\n",
      "genres type:  object\n",
      "homepage type:  object\n",
      "id type:  int64\n",
      "keywords type:  object\n",
      "original_language type:  object\n",
      "original_title type:  object\n",
      "overview type:  object\n",
      "popularity type:  float64\n",
      "production_companies type:  object\n",
      "production_countries type:  object\n",
      "release_date type:  object\n",
      "revenue type:  int64\n",
      "runtime type:  float64\n",
      "spoken_languages type:  object\n",
      "status type:  object\n",
      "tagline type:  object\n",
      "title type:  object\n",
      "vote_average type:  float64\n",
      "vote_count type:  int64\n"
     ]
    }
   ],
   "source": [
    "print('Features in table: ', list(data.columns))\n",
    "print('\\nNumber shape: ', data.shape)\n",
    "# Check data type of each column\n",
    "for column in list(data.columns):\n",
    "    print('%s type: ' %column, data[column].dtype)"
   ]
  },
  {
   "cell_type": "markdown",
   "metadata": {},
   "source": [
    "### Data cleaning"
   ]
  },
  {
   "cell_type": "markdown",
   "metadata": {},
   "source": [
    "Draw distribute genres on renvenue.\n",
    "Which is highest, which is lowest?\n",
    "Use pandas.describe in detail."
   ]
  },
  {
   "cell_type": "markdown",
   "metadata": {},
   "source": [
    "Number of times each of the columns in the dataset contains null values. "
   ]
  },
  {
   "cell_type": "code",
   "execution_count": 4,
   "metadata": {},
   "outputs": [
    {
     "data": {
      "text/plain": [
       "budget                     0\n",
       "genres                     0\n",
       "homepage                3091\n",
       "id                         0\n",
       "keywords                   0\n",
       "original_language          0\n",
       "original_title             0\n",
       "overview                   3\n",
       "popularity                 0\n",
       "production_companies       0\n",
       "production_countries       0\n",
       "release_date               1\n",
       "revenue                    0\n",
       "runtime                    2\n",
       "spoken_languages           0\n",
       "status                     0\n",
       "tagline                  844\n",
       "title                      0\n",
       "vote_average               0\n",
       "vote_count                 0\n",
       "dtype: int64"
      ]
     },
     "execution_count": 4,
     "metadata": {},
     "output_type": "execute_result"
    }
   ],
   "source": [
    "data.isnull().sum()"
   ]
  },
  {
   "cell_type": "markdown",
   "metadata": {},
   "source": [
    "Following above, homepage and tagline contain empty entry. Now we need to fill up the missing values with 'Unknown'\n",
    "##### NOTE: \n",
    "To be fast, we can use: data.fillna('Unknown')"
   ]
  },
  {
   "cell_type": "code",
   "execution_count": 5,
   "metadata": {},
   "outputs": [],
   "source": [
    "data.homepage = data.homepage.fillna('Unknown')\n",
    "data.tagline = data.tagline.fillna('Unknown')"
   ]
  },
  {
   "cell_type": "markdown",
   "metadata": {},
   "source": [
    "Now we can check again the filled columns."
   ]
  },
  {
   "cell_type": "code",
   "execution_count": 6,
   "metadata": {},
   "outputs": [
    {
     "name": "stdout",
     "output_type": "stream",
     "text": [
      "============Homepage===============\n",
      "Unknown                                 3091\n",
      "http://www.missionimpossible.com/          4\n",
      "http://www.thehungergames.movie/           4\n",
      "http://www.transformersmovie.com/          3\n",
      "http://www.kungfupanda.com/                3\n",
      "http://www.thehobbit.com/                  3\n",
      "http://www.ironmanmovie.com/               2\n",
      "http://www.howtotrainyourdragon.com/       2\n",
      "http://www.indianajones.com                2\n",
      "http://www.lordoftherings.net/             2\n",
      "Name: homepage, dtype: int64\n",
      "\n",
      "============Tagline===============\n",
      "Unknown                                       844\n",
      "Based on a true story.                          3\n",
      "From zero to hero.                              2\n",
      "One way in. No way out.                         2\n",
      "What could go wrong?                            2\n",
      "One ordinary couple. One little white lie.      2\n",
      "Be careful what you wish for.                   2\n",
      "The only way out is down.                       2\n",
      "Worlds Collide                                  2\n",
      "Who's next?                                     2\n",
      "Name: tagline, dtype: int64\n"
     ]
    }
   ],
   "source": [
    "print('============Homepage===============')\n",
    "print(data.homepage.value_counts().head(10))\n",
    "print('\\n============Tagline===============')\n",
    "print(data.tagline.value_counts().head(10))"
   ]
  },
  {
   "cell_type": "markdown",
   "metadata": {},
   "source": [
    "### Data explore\n",
    "In this part, we will start to analysis data to answer 3 questions above."
   ]
  },
  {
   "cell_type": "markdown",
   "metadata": {},
   "source": [
    "#### 1.  What areas have the most influence on revenue?\n",
    "The area is presented in column production_countries. Now we will try to extract the information from this column.\n",
    "\n",
    "First, let's took a look a sample in this column."
   ]
  },
  {
   "cell_type": "code",
   "execution_count": 7,
   "metadata": {},
   "outputs": [
    {
     "name": "stdout",
     "output_type": "stream",
     "text": [
      "[{\"iso_3166_1\": \"US\", \"name\": \"United States of America\"}, {\"iso_3166_1\": \"GB\", \"name\": \"United Kingdom\"}]\n",
      "<class 'str'>\n"
     ]
    }
   ],
   "source": [
    "print(data.production_countries.iloc[0])\n",
    "print(type(data.production_countries[0]))"
   ]
  },
  {
   "cell_type": "markdown",
   "metadata": {},
   "source": [
    "As you can see above, the format of the sample is actually a list in which there are dictionaries. Thanks God, we do have a package which can help us to convert a string representation of list to list. It's ast!!!"
   ]
  },
  {
   "cell_type": "code",
   "execution_count": 8,
   "metadata": {},
   "outputs": [
    {
     "name": "stdout",
     "output_type": "stream",
     "text": [
      "[{'iso_3166_1': 'US', 'name': 'United States of America'}, {'iso_3166_1': 'GB', 'name': 'United Kingdom'}]\n",
      "{'iso_3166_1': 'US', 'name': 'United States of America'}\n",
      "United States of America\n"
     ]
    }
   ],
   "source": [
    "import ast\n",
    "list_dict = ast.literal_eval(data.production_countries.iloc[0])\n",
    "print(list_dict)\n",
    "print(list_dict[0])\n",
    "print(list_dict[0].get('name'))"
   ]
  },
  {
   "cell_type": "markdown",
   "metadata": {},
   "source": [
    "Amazing, right? So now we will create a new data which contain the areas and their revenues."
   ]
  },
  {
   "cell_type": "code",
   "execution_count": 9,
   "metadata": {
    "scrolled": true
   },
   "outputs": [],
   "source": [
    "areas = []\n",
    "revenues = []\n",
    "for rows in range(len(data)):\n",
    "    list_dict = ast.literal_eval(data.production_countries.iloc[rows])\n",
    "    for dicts in range(len(list_dict)):\n",
    "        revenues.append(data.revenue.values[rows]/len(list_dict)) # If more than 1 countries, take the average for each.\n",
    "        areas.append(list_dict[dicts].get('name'))\n",
    "eval_data = {'Area': areas, 'Revenue': revenues}\n",
    "eval_table = pd.DataFrame(eval_data)"
   ]
  },
  {
   "cell_type": "markdown",
   "metadata": {},
   "source": [
    "Plot bar chart for Area and Average Revenue"
   ]
  },
  {
   "cell_type": "code",
   "execution_count": 10,
   "metadata": {},
   "outputs": [
    {
     "data": {
      "application/vnd.plotly.v1+json": {
       "data": [
        {
         "type": "bar",
         "uid": "1ca12ba8-c0af-11e8-bef8-9cad97a9b18b",
         "x": [
          "Australia",
          "Canada",
          "China",
          "France",
          "Germany",
          "Hong Kong",
          "India",
          "Ireland",
          "Italy",
          "Japan",
          "Mexico",
          "Spain",
          "United Kingdom",
          "United States of America"
         ],
         "y": [
          45422180.70681817,
          23761375.241762448,
          50025470.220056504,
          19230562.54716386,
          32066002.78785642,
          26744939.937152777,
          20296238.706790123,
          10584442.01036036,
          16852850.18296958,
          47591344.7711207,
          17951714.122222226,
          16807218.341784038,
          43825019.571643814,
          80333826.23142697
         ]
        }
       ],
       "layout": {
        "title": "Average revenue following areas",
        "xaxis": {
         "title": "Area"
        },
        "yaxis": {
         "title": "Revenue"
        }
       }
      },
      "text/html": [
       "<div id=\"18ac96e7-6a79-4fe0-a63c-f8eba640d0d8\" style=\"height: 525px; width: 100%;\" class=\"plotly-graph-div\"></div><script type=\"text/javascript\">require([\"plotly\"], function(Plotly) { window.PLOTLYENV=window.PLOTLYENV || {};window.PLOTLYENV.BASE_URL=\"https://plot.ly\";Plotly.newPlot(\"18ac96e7-6a79-4fe0-a63c-f8eba640d0d8\", [{\"x\": [\"Australia\", \"Canada\", \"China\", \"France\", \"Germany\", \"Hong Kong\", \"India\", \"Ireland\", \"Italy\", \"Japan\", \"Mexico\", \"Spain\", \"United Kingdom\", \"United States of America\"], \"y\": [45422180.70681817, 23761375.241762448, 50025470.220056504, 19230562.54716386, 32066002.78785642, 26744939.937152777, 20296238.706790123, 10584442.01036036, 16852850.18296958, 47591344.7711207, 17951714.122222226, 16807218.341784038, 43825019.571643814, 80333826.23142697], \"type\": \"bar\", \"uid\": \"1ca12ba8-c0af-11e8-bef8-9cad97a9b18b\"}], {\"title\": \"Average revenue following areas\", \"xaxis\": {\"title\": \"Area\"}, \"yaxis\": {\"title\": \"Revenue\"}}, {\"showLink\": true, \"linkText\": \"Export to plot.ly\"})});</script>"
      ],
      "text/vnd.plotly.v1+html": [
       "<div id=\"18ac96e7-6a79-4fe0-a63c-f8eba640d0d8\" style=\"height: 525px; width: 100%;\" class=\"plotly-graph-div\"></div><script type=\"text/javascript\">require([\"plotly\"], function(Plotly) { window.PLOTLYENV=window.PLOTLYENV || {};window.PLOTLYENV.BASE_URL=\"https://plot.ly\";Plotly.newPlot(\"18ac96e7-6a79-4fe0-a63c-f8eba640d0d8\", [{\"x\": [\"Australia\", \"Canada\", \"China\", \"France\", \"Germany\", \"Hong Kong\", \"India\", \"Ireland\", \"Italy\", \"Japan\", \"Mexico\", \"Spain\", \"United Kingdom\", \"United States of America\"], \"y\": [45422180.70681817, 23761375.241762448, 50025470.220056504, 19230562.54716386, 32066002.78785642, 26744939.937152777, 20296238.706790123, 10584442.01036036, 16852850.18296958, 47591344.7711207, 17951714.122222226, 16807218.341784038, 43825019.571643814, 80333826.23142697], \"type\": \"bar\", \"uid\": \"1ca12ba8-c0af-11e8-bef8-9cad97a9b18b\"}], {\"title\": \"Average revenue following areas\", \"xaxis\": {\"title\": \"Area\"}, \"yaxis\": {\"title\": \"Revenue\"}}, {\"showLink\": true, \"linkText\": \"Export to plot.ly\"})});</script>"
      ]
     },
     "metadata": {},
     "output_type": "display_data"
    }
   ],
   "source": [
    "area_table = eval_table.groupby('Area').mean() # Contain the mean values of each area.\n",
    "# We need to discard areas which have under 30 samples because they are not statistical significant.\n",
    "area_list = eval_table.groupby('Area').count()[eval_table.groupby('Area').count().Revenue.values >= 30].index.values\n",
    "area_table = area_table[area_table.index.isin(area_list)]\n",
    "# Now draw table\n",
    "table = [\n",
    "    go.Bar(\n",
    "        x=area_table.index.values, # The area now is the index in area_table\n",
    "        y=area_table.Revenue\n",
    "    )\n",
    "]\n",
    "\n",
    "layout = go.Layout(\n",
    "    title='Average revenue following areas',\n",
    "    yaxis=dict(title='Revenue'),\n",
    "    xaxis=dict(title='Area')\n",
    ")\n",
    "\n",
    "fig = go.Figure(data=table, layout=layout)\n",
    "iplot(fig)"
   ]
  },
  {
   "cell_type": "markdown",
   "metadata": {},
   "source": [
    "#### 2.  How is a movie’s revenue and average score affected by its genre?\n",
    "Process these like above."
   ]
  },
  {
   "cell_type": "code",
   "execution_count": 11,
   "metadata": {},
   "outputs": [],
   "source": [
    "genres = []\n",
    "scores = []\n",
    "revenues = []\n",
    "for rows in range(len(data)):\n",
    "    list_dict = ast.literal_eval(data.genres.iloc[rows])\n",
    "    for dicts in range(len(list_dict)):\n",
    "        genres.append(list_dict[dicts].get('name'))\n",
    "        revenues.append(data.revenue.values[rows]/len(list_dict))\n",
    "        scores.append(data.vote_average.values[rows])\n",
    "eval_data = {'Genre': genres, 'Revenue': revenues, 'Score': scores}\n",
    "eval_table = pd.DataFrame(eval_data)"
   ]
  },
  {
   "cell_type": "markdown",
   "metadata": {},
   "source": [
    "Genres vs Revenues."
   ]
  },
  {
   "cell_type": "code",
   "execution_count": 12,
   "metadata": {},
   "outputs": [
    {
     "data": {
      "application/vnd.plotly.v1+json": {
       "data": [
        {
         "type": "bar",
         "uid": "1ca12ba9-c0af-11e8-bef8-9cad97a9b18b",
         "x": [
          "Action",
          "Adventure",
          "Animation",
          "Comedy",
          "Crime",
          "Documentary",
          "Drama",
          "Family",
          "Fantasy",
          "Foreign",
          "History",
          "Horror",
          "Music",
          "Mystery",
          "Romance",
          "Science Fiction",
          "Thriller",
          "War",
          "Western"
         ],
         "y": [
          46041810.36524924,
          63460989.919469595,
          69248567.06975988,
          30133188.239400472,
          21459397.91056034,
          5982905.986363636,
          21411864.38381534,
          49545851.88121692,
          57630800.72285492,
          122096.07107843137,
          19584920.018950928,
          19103905.34910084,
          15231383.642921502,
          24095365.956800763,
          22203383.98589536,
          47595898.23490432,
          26175377.746821024,
          27720039.30729166,
          17972995.0745935
         ]
        }
       ],
       "layout": {
        "title": "Average revenue following areas",
        "xaxis": {
         "title": "Genre"
        },
        "yaxis": {
         "title": "Revenue"
        }
       }
      },
      "text/html": [
       "<div id=\"6a5a8931-9fc1-4bf1-b76f-3ef96022bc90\" style=\"height: 525px; width: 100%;\" class=\"plotly-graph-div\"></div><script type=\"text/javascript\">require([\"plotly\"], function(Plotly) { window.PLOTLYENV=window.PLOTLYENV || {};window.PLOTLYENV.BASE_URL=\"https://plot.ly\";Plotly.newPlot(\"6a5a8931-9fc1-4bf1-b76f-3ef96022bc90\", [{\"x\": [\"Action\", \"Adventure\", \"Animation\", \"Comedy\", \"Crime\", \"Documentary\", \"Drama\", \"Family\", \"Fantasy\", \"Foreign\", \"History\", \"Horror\", \"Music\", \"Mystery\", \"Romance\", \"Science Fiction\", \"Thriller\", \"War\", \"Western\"], \"y\": [46041810.36524924, 63460989.919469595, 69248567.06975988, 30133188.239400472, 21459397.91056034, 5982905.986363636, 21411864.38381534, 49545851.88121692, 57630800.72285492, 122096.07107843137, 19584920.018950928, 19103905.34910084, 15231383.642921502, 24095365.956800763, 22203383.98589536, 47595898.23490432, 26175377.746821024, 27720039.30729166, 17972995.0745935], \"type\": \"bar\", \"uid\": \"1ca12ba9-c0af-11e8-bef8-9cad97a9b18b\"}], {\"title\": \"Average revenue following areas\", \"xaxis\": {\"title\": \"Genre\"}, \"yaxis\": {\"title\": \"Revenue\"}}, {\"showLink\": true, \"linkText\": \"Export to plot.ly\"})});</script>"
      ],
      "text/vnd.plotly.v1+html": [
       "<div id=\"6a5a8931-9fc1-4bf1-b76f-3ef96022bc90\" style=\"height: 525px; width: 100%;\" class=\"plotly-graph-div\"></div><script type=\"text/javascript\">require([\"plotly\"], function(Plotly) { window.PLOTLYENV=window.PLOTLYENV || {};window.PLOTLYENV.BASE_URL=\"https://plot.ly\";Plotly.newPlot(\"6a5a8931-9fc1-4bf1-b76f-3ef96022bc90\", [{\"x\": [\"Action\", \"Adventure\", \"Animation\", \"Comedy\", \"Crime\", \"Documentary\", \"Drama\", \"Family\", \"Fantasy\", \"Foreign\", \"History\", \"Horror\", \"Music\", \"Mystery\", \"Romance\", \"Science Fiction\", \"Thriller\", \"War\", \"Western\"], \"y\": [46041810.36524924, 63460989.919469595, 69248567.06975988, 30133188.239400472, 21459397.91056034, 5982905.986363636, 21411864.38381534, 49545851.88121692, 57630800.72285492, 122096.07107843137, 19584920.018950928, 19103905.34910084, 15231383.642921502, 24095365.956800763, 22203383.98589536, 47595898.23490432, 26175377.746821024, 27720039.30729166, 17972995.0745935], \"type\": \"bar\", \"uid\": \"1ca12ba9-c0af-11e8-bef8-9cad97a9b18b\"}], {\"title\": \"Average revenue following areas\", \"xaxis\": {\"title\": \"Genre\"}, \"yaxis\": {\"title\": \"Revenue\"}}, {\"showLink\": true, \"linkText\": \"Export to plot.ly\"})});</script>"
      ]
     },
     "metadata": {},
     "output_type": "display_data"
    }
   ],
   "source": [
    "genre_table = eval_table.groupby('Genre').mean() # Contain the mean values of each area.\n",
    "# We need to discard genres which have under 30 samples because they are not statistical significant.\n",
    "genre_list = eval_table.groupby('Genre').count()[eval_table.groupby('Genre').count().Revenue.values >= 30].index.values\n",
    "genre_table = genre_table[genre_table.index.isin(genre_list)]\n",
    "\n",
    "# Now draw table\n",
    "table = [\n",
    "    go.Bar(\n",
    "        x=genre_table.index.values, # The genre now is the index in area_table\n",
    "        y=genre_table.Revenue\n",
    "    )\n",
    "]\n",
    "\n",
    "layout = go.Layout(\n",
    "    title='Average revenue following areas',\n",
    "    yaxis=dict(title='Revenue'),\n",
    "    xaxis=dict(title='Genre')\n",
    ")\n",
    "\n",
    "fig = go.Figure(data=table, layout=layout)\n",
    "iplot(fig)"
   ]
  },
  {
   "cell_type": "markdown",
   "metadata": {},
   "source": [
    "Genres vs Score."
   ]
  },
  {
   "cell_type": "code",
   "execution_count": 13,
   "metadata": {},
   "outputs": [
    {
     "data": {
      "application/vnd.plotly.v1+json": {
       "data": [
        {
         "type": "bar",
         "uid": "1ca12baa-c0af-11e8-bef8-9cad97a9b18b",
         "x": [
          "Action",
          "Adventure",
          "Animation",
          "Comedy",
          "Crime",
          "Documentary",
          "Drama",
          "Family",
          "Fantasy",
          "Foreign",
          "History",
          "Horror",
          "Music",
          "Mystery",
          "Romance",
          "Science Fiction",
          "Thriller",
          "War",
          "Western"
         ],
         "y": [
          5.98951473136915,
          6.15696202531646,
          6.341452991452988,
          5.945586527293842,
          6.274137931034485,
          6.238181818181814,
          6.38859381802349,
          6.029629629629633,
          6.096698113207549,
          6.352941176470589,
          6.719796954314715,
          5.626589595375721,
          6.355675675675674,
          6.183908045977016,
          6.207718120805384,
          6.005607476635514,
          6.0109890109890145,
          6.7138888888888895,
          6.1780487804878055
         ]
        }
       ],
       "layout": {
        "title": "Average revenue following areas",
        "xaxis": {
         "title": "Score"
        },
        "yaxis": {
         "title": "Revenue"
        }
       }
      },
      "text/html": [
       "<div id=\"46baa62b-a5b5-4399-936e-b84ed6cc27fd\" style=\"height: 525px; width: 100%;\" class=\"plotly-graph-div\"></div><script type=\"text/javascript\">require([\"plotly\"], function(Plotly) { window.PLOTLYENV=window.PLOTLYENV || {};window.PLOTLYENV.BASE_URL=\"https://plot.ly\";Plotly.newPlot(\"46baa62b-a5b5-4399-936e-b84ed6cc27fd\", [{\"x\": [\"Action\", \"Adventure\", \"Animation\", \"Comedy\", \"Crime\", \"Documentary\", \"Drama\", \"Family\", \"Fantasy\", \"Foreign\", \"History\", \"Horror\", \"Music\", \"Mystery\", \"Romance\", \"Science Fiction\", \"Thriller\", \"War\", \"Western\"], \"y\": [5.98951473136915, 6.15696202531646, 6.341452991452988, 5.945586527293842, 6.274137931034485, 6.238181818181814, 6.38859381802349, 6.029629629629633, 6.096698113207549, 6.352941176470589, 6.719796954314715, 5.626589595375721, 6.355675675675674, 6.183908045977016, 6.207718120805384, 6.005607476635514, 6.0109890109890145, 6.7138888888888895, 6.1780487804878055], \"type\": \"bar\", \"uid\": \"1ca12baa-c0af-11e8-bef8-9cad97a9b18b\"}], {\"title\": \"Average revenue following areas\", \"xaxis\": {\"title\": \"Score\"}, \"yaxis\": {\"title\": \"Revenue\"}}, {\"showLink\": true, \"linkText\": \"Export to plot.ly\"})});</script>"
      ],
      "text/vnd.plotly.v1+html": [
       "<div id=\"46baa62b-a5b5-4399-936e-b84ed6cc27fd\" style=\"height: 525px; width: 100%;\" class=\"plotly-graph-div\"></div><script type=\"text/javascript\">require([\"plotly\"], function(Plotly) { window.PLOTLYENV=window.PLOTLYENV || {};window.PLOTLYENV.BASE_URL=\"https://plot.ly\";Plotly.newPlot(\"46baa62b-a5b5-4399-936e-b84ed6cc27fd\", [{\"x\": [\"Action\", \"Adventure\", \"Animation\", \"Comedy\", \"Crime\", \"Documentary\", \"Drama\", \"Family\", \"Fantasy\", \"Foreign\", \"History\", \"Horror\", \"Music\", \"Mystery\", \"Romance\", \"Science Fiction\", \"Thriller\", \"War\", \"Western\"], \"y\": [5.98951473136915, 6.15696202531646, 6.341452991452988, 5.945586527293842, 6.274137931034485, 6.238181818181814, 6.38859381802349, 6.029629629629633, 6.096698113207549, 6.352941176470589, 6.719796954314715, 5.626589595375721, 6.355675675675674, 6.183908045977016, 6.207718120805384, 6.005607476635514, 6.0109890109890145, 6.7138888888888895, 6.1780487804878055], \"type\": \"bar\", \"uid\": \"1ca12baa-c0af-11e8-bef8-9cad97a9b18b\"}], {\"title\": \"Average revenue following areas\", \"xaxis\": {\"title\": \"Score\"}, \"yaxis\": {\"title\": \"Revenue\"}}, {\"showLink\": true, \"linkText\": \"Export to plot.ly\"})});</script>"
      ]
     },
     "metadata": {},
     "output_type": "display_data"
    }
   ],
   "source": [
    "genre_table = eval_table.groupby('Genre').mean() # Contain the mean values of each area.\n",
    "# We need to discard genres which have under 30 samples because they are not statistical significant.\n",
    "genre_list = eval_table.groupby('Genre').count()[eval_table.groupby('Genre').count().Score.values >= 30].index.values\n",
    "genre_table = genre_table[genre_table.index.isin(genre_list)]\n",
    "\n",
    "# Now draw table\n",
    "table = [\n",
    "    go.Bar(\n",
    "        x=genre_table.index.values, # The genre now is the index in area_table\n",
    "        y=genre_table.Score\n",
    "    )\n",
    "]\n",
    "\n",
    "layout = go.Layout(\n",
    "    title='Average revenue following areas',\n",
    "    yaxis=dict(title='Revenue'),\n",
    "    xaxis=dict(title='Score')\n",
    ")\n",
    "\n",
    "fig = go.Figure(data=table, layout=layout)\n",
    "iplot(fig)"
   ]
  },
  {
   "cell_type": "markdown",
   "metadata": {},
   "source": [
    "#### 3.  What influence does release date have on revenue?\n",
    "In this, we will analysis following months and years.\n",
    "##### Note:\n",
    "We just analysis the realeased movies which make more sense."
   ]
  },
  {
   "cell_type": "code",
   "execution_count": 14,
   "metadata": {},
   "outputs": [],
   "source": [
    "# Extract months and years from column realease_date\n",
    "months = []\n",
    "years = []\n",
    "for value in data[data.status=='Released'].release_date.values:\n",
    "    value = str(value) # <==== I don't know why but the dtype of value here is float.\n",
    "    months.append(value[5:7])\n",
    "    years.append(value[0:4])\n",
    "eval_data = {'Month': months, 'Year': years, 'Revenue': data[data.status=='Released'].revenue.values}\n",
    "eval_table = pd.DataFrame(eval_data)"
   ]
  },
  {
   "cell_type": "markdown",
   "metadata": {},
   "source": [
    "Plot bar chart following month."
   ]
  },
  {
   "cell_type": "code",
   "execution_count": 15,
   "metadata": {},
   "outputs": [
    {
     "data": {
      "application/vnd.plotly.v1+json": {
       "data": [
        {
         "type": "bar",
         "uid": "1d7c5674-c0af-11e8-bef8-9cad97a9b18b",
         "x": [
          "",
          "01",
          "02",
          "03",
          "04",
          "05",
          "06",
          "07",
          "08",
          "09",
          "10",
          "11",
          "12"
         ],
         "y": [
          0,
          28784768.915789474,
          56138419.17177914,
          73103155.15860215,
          74139446.9512894,
          133930132.69146006,
          152677029.16237113,
          111885020.62707183,
          55938158.96116505,
          40060092.46337308,
          53008124.22832981,
          128886132.9785276,
          111358349.42982456
         ]
        }
       ],
       "layout": {
        "title": "Average revenue following months",
        "xaxis": {
         "title": "Month"
        },
        "yaxis": {
         "title": "Revenue"
        }
       }
      },
      "text/html": [
       "<div id=\"8c6d367f-2442-4d89-845e-e46ae0826e27\" style=\"height: 525px; width: 100%;\" class=\"plotly-graph-div\"></div><script type=\"text/javascript\">require([\"plotly\"], function(Plotly) { window.PLOTLYENV=window.PLOTLYENV || {};window.PLOTLYENV.BASE_URL=\"https://plot.ly\";Plotly.newPlot(\"8c6d367f-2442-4d89-845e-e46ae0826e27\", [{\"x\": [\"\", \"01\", \"02\", \"03\", \"04\", \"05\", \"06\", \"07\", \"08\", \"09\", \"10\", \"11\", \"12\"], \"y\": [0.0, 28784768.915789474, 56138419.17177914, 73103155.15860215, 74139446.9512894, 133930132.69146006, 152677029.16237113, 111885020.62707183, 55938158.96116505, 40060092.46337308, 53008124.22832981, 128886132.9785276, 111358349.42982456], \"type\": \"bar\", \"uid\": \"1d7c5674-c0af-11e8-bef8-9cad97a9b18b\"}], {\"title\": \"Average revenue following months\", \"xaxis\": {\"title\": \"Month\"}, \"yaxis\": {\"title\": \"Revenue\"}}, {\"showLink\": true, \"linkText\": \"Export to plot.ly\"})});</script>"
      ],
      "text/vnd.plotly.v1+html": [
       "<div id=\"8c6d367f-2442-4d89-845e-e46ae0826e27\" style=\"height: 525px; width: 100%;\" class=\"plotly-graph-div\"></div><script type=\"text/javascript\">require([\"plotly\"], function(Plotly) { window.PLOTLYENV=window.PLOTLYENV || {};window.PLOTLYENV.BASE_URL=\"https://plot.ly\";Plotly.newPlot(\"8c6d367f-2442-4d89-845e-e46ae0826e27\", [{\"x\": [\"\", \"01\", \"02\", \"03\", \"04\", \"05\", \"06\", \"07\", \"08\", \"09\", \"10\", \"11\", \"12\"], \"y\": [0.0, 28784768.915789474, 56138419.17177914, 73103155.15860215, 74139446.9512894, 133930132.69146006, 152677029.16237113, 111885020.62707183, 55938158.96116505, 40060092.46337308, 53008124.22832981, 128886132.9785276, 111358349.42982456], \"type\": \"bar\", \"uid\": \"1d7c5674-c0af-11e8-bef8-9cad97a9b18b\"}], {\"title\": \"Average revenue following months\", \"xaxis\": {\"title\": \"Month\"}, \"yaxis\": {\"title\": \"Revenue\"}}, {\"showLink\": true, \"linkText\": \"Export to plot.ly\"})});</script>"
      ]
     },
     "metadata": {},
     "output_type": "display_data"
    }
   ],
   "source": [
    "month_table = eval_table.groupby('Month').mean() # Contain the mean values of each month.\n",
    "table = [\n",
    "    go.Bar(\n",
    "        x=month_table.index.values, # The month now is the index in eval_Table\n",
    "        y=month_table.Revenue\n",
    "    )\n",
    "]\n",
    "\n",
    "layout = go.Layout(\n",
    "    title='Average revenue following months',\n",
    "    yaxis=dict(title='Revenue'),\n",
    "    xaxis=dict(title='Month')\n",
    ")\n",
    "\n",
    "fig = go.Figure(data=table, layout=layout)\n",
    "iplot(fig)"
   ]
  },
  {
   "cell_type": "markdown",
   "metadata": {},
   "source": [
    "Plot serial chart following year."
   ]
  },
  {
   "cell_type": "code",
   "execution_count": 16,
   "metadata": {},
   "outputs": [
    {
     "data": {
      "application/vnd.plotly.v1+json": {
       "data": [
        {
         "type": "scatter",
         "uid": "1d7c5675-c0af-11e8-bef8-9cad97a9b18b",
         "x": [
          "1916",
          "1925",
          "1927",
          "1929",
          "1930",
          "1932",
          "1933",
          "1934",
          "1935",
          "1936",
          "1937",
          "1938",
          "1939",
          "1940",
          "1941",
          "1942",
          "1944",
          "1945",
          "1946",
          "1947",
          "1948",
          "1949",
          "1950",
          "1951",
          "1952",
          "1953",
          "1954",
          "1955",
          "1956",
          "1957",
          "1958",
          "1959",
          "1960",
          "1961",
          "1962",
          "1963",
          "1964",
          "1965",
          "1966",
          "1967",
          "1968",
          "1969",
          "1970",
          "1971",
          "1972",
          "1973",
          "1974",
          "1975",
          "1976",
          "1977",
          "1978",
          "1979",
          "1980",
          "1981",
          "1982",
          "1983",
          "1984",
          "1985",
          "1986",
          "1987",
          "1988",
          "1989",
          "1990",
          "1991",
          "1992",
          "1993",
          "1994",
          "1995",
          "1996",
          "1997",
          "1998",
          "1999",
          "2000",
          "2001",
          "2002",
          "2003",
          "2004",
          "2005",
          "2006",
          "2007",
          "2008",
          "2009",
          "2010",
          "2011",
          "2012",
          "2013",
          "2014",
          "2015",
          "2016",
          "2017",
          "nan"
         ],
         "y": [
          8394751,
          22000000,
          650422,
          2179000,
          8000000,
          25,
          2240500,
          4500000,
          3202000,
          5618000,
          92462743,
          5716550.5,
          147843808.66666666,
          36558400,
          6000000,
          138954825,
          6127500,
          6783000,
          17898041.333333332,
          2600000,
          3989333.3333333335,
          6600000,
          8000000,
          16333333.333333334,
          12800000,
          20000000,
          13267960.25,
          3500000,
          11266666.666666666,
          17150000,
          17570324,
          16666666.666666666,
          22466666.666666668,
          14891364.4,
          30010747.285714287,
          35730404.5,
          34701446,
          69344564.125,
          9891666.666666666,
          31948084.5,
          18755447.7,
          31438585.4,
          20668065.75,
          29624179.8,
          32375855.666666668,
          106621070.22222222,
          48270896.75,
          109082928.33333333,
          33148207.777777776,
          91259932.5,
          68536915.07142857,
          61859555.6875,
          58681020.5,
          39846320.18181818,
          77176612.25,
          68410945.3478261,
          62632435,
          53529476.60714286,
          57765114.84615385,
          50236489.32258064,
          62359282.838709675,
          83964737.53125,
          133233512.20689656,
          88803583.06666666,
          110497217.76470588,
          82594738.44680852,
          107795500.07272728,
          88673473.18571429,
          70185644.44329897,
          86024520.53571428,
          61827827.323308274,
          60425385.43274854,
          65977218.89759036,
          72512949.66666667,
          71969741.65517241,
          84102482,
          79797483.17156863,
          69127727.8611111,
          70791032.9787234,
          84572418.74358974,
          79940439.66079295,
          85661184.98373984,
          90438110.08,
          92832938.5837104,
          116065914.64423077,
          101348455.82251082,
          101346599.11344537,
          106425346.82710281,
          139049586.03846154,
          0,
          0
         ]
        }
       ],
       "layout": {
        "title": "Average revenue following months",
        "xaxis": {
         "title": "Year"
        },
        "yaxis": {
         "title": "Revenue"
        }
       }
      },
      "text/html": [
       "<div id=\"c6592aa1-d840-4926-898d-b27759fefdae\" style=\"height: 525px; width: 100%;\" class=\"plotly-graph-div\"></div><script type=\"text/javascript\">require([\"plotly\"], function(Plotly) { window.PLOTLYENV=window.PLOTLYENV || {};window.PLOTLYENV.BASE_URL=\"https://plot.ly\";Plotly.newPlot(\"c6592aa1-d840-4926-898d-b27759fefdae\", [{\"x\": [\"1916\", \"1925\", \"1927\", \"1929\", \"1930\", \"1932\", \"1933\", \"1934\", \"1935\", \"1936\", \"1937\", \"1938\", \"1939\", \"1940\", \"1941\", \"1942\", \"1944\", \"1945\", \"1946\", \"1947\", \"1948\", \"1949\", \"1950\", \"1951\", \"1952\", \"1953\", \"1954\", \"1955\", \"1956\", \"1957\", \"1958\", \"1959\", \"1960\", \"1961\", \"1962\", \"1963\", \"1964\", \"1965\", \"1966\", \"1967\", \"1968\", \"1969\", \"1970\", \"1971\", \"1972\", \"1973\", \"1974\", \"1975\", \"1976\", \"1977\", \"1978\", \"1979\", \"1980\", \"1981\", \"1982\", \"1983\", \"1984\", \"1985\", \"1986\", \"1987\", \"1988\", \"1989\", \"1990\", \"1991\", \"1992\", \"1993\", \"1994\", \"1995\", \"1996\", \"1997\", \"1998\", \"1999\", \"2000\", \"2001\", \"2002\", \"2003\", \"2004\", \"2005\", \"2006\", \"2007\", \"2008\", \"2009\", \"2010\", \"2011\", \"2012\", \"2013\", \"2014\", \"2015\", \"2016\", \"2017\", \"nan\"], \"y\": [8394751.0, 22000000.0, 650422.0, 2179000.0, 8000000.0, 25.0, 2240500.0, 4500000.0, 3202000.0, 5618000.0, 92462743.0, 5716550.5, 147843808.66666666, 36558400.0, 6000000.0, 138954825.0, 6127500.0, 6783000.0, 17898041.333333332, 2600000.0, 3989333.3333333335, 6600000.0, 8000000.0, 16333333.333333334, 12800000.0, 20000000.0, 13267960.25, 3500000.0, 11266666.666666666, 17150000.0, 17570324.0, 16666666.666666666, 22466666.666666668, 14891364.4, 30010747.285714287, 35730404.5, 34701446.0, 69344564.125, 9891666.666666666, 31948084.5, 18755447.7, 31438585.4, 20668065.75, 29624179.8, 32375855.666666668, 106621070.22222222, 48270896.75, 109082928.33333333, 33148207.777777776, 91259932.5, 68536915.07142857, 61859555.6875, 58681020.5, 39846320.18181818, 77176612.25, 68410945.3478261, 62632435.0, 53529476.60714286, 57765114.84615385, 50236489.32258064, 62359282.838709675, 83964737.53125, 133233512.20689656, 88803583.06666666, 110497217.76470588, 82594738.44680852, 107795500.07272728, 88673473.18571429, 70185644.44329897, 86024520.53571428, 61827827.323308274, 60425385.43274854, 65977218.89759036, 72512949.66666667, 71969741.65517241, 84102482.0, 79797483.17156863, 69127727.8611111, 70791032.9787234, 84572418.74358974, 79940439.66079295, 85661184.98373984, 90438110.08, 92832938.5837104, 116065914.64423077, 101348455.82251082, 101346599.11344537, 106425346.82710281, 139049586.03846154, 0.0, 0.0], \"type\": \"scatter\", \"uid\": \"1d7c5675-c0af-11e8-bef8-9cad97a9b18b\"}], {\"title\": \"Average revenue following months\", \"xaxis\": {\"title\": \"Year\"}, \"yaxis\": {\"title\": \"Revenue\"}}, {\"showLink\": true, \"linkText\": \"Export to plot.ly\"})});</script>"
      ],
      "text/vnd.plotly.v1+html": [
       "<div id=\"c6592aa1-d840-4926-898d-b27759fefdae\" style=\"height: 525px; width: 100%;\" class=\"plotly-graph-div\"></div><script type=\"text/javascript\">require([\"plotly\"], function(Plotly) { window.PLOTLYENV=window.PLOTLYENV || {};window.PLOTLYENV.BASE_URL=\"https://plot.ly\";Plotly.newPlot(\"c6592aa1-d840-4926-898d-b27759fefdae\", [{\"x\": [\"1916\", \"1925\", \"1927\", \"1929\", \"1930\", \"1932\", \"1933\", \"1934\", \"1935\", \"1936\", \"1937\", \"1938\", \"1939\", \"1940\", \"1941\", \"1942\", \"1944\", \"1945\", \"1946\", \"1947\", \"1948\", \"1949\", \"1950\", \"1951\", \"1952\", \"1953\", \"1954\", \"1955\", \"1956\", \"1957\", \"1958\", \"1959\", \"1960\", \"1961\", \"1962\", \"1963\", \"1964\", \"1965\", \"1966\", \"1967\", \"1968\", \"1969\", \"1970\", \"1971\", \"1972\", \"1973\", \"1974\", \"1975\", \"1976\", \"1977\", \"1978\", \"1979\", \"1980\", \"1981\", \"1982\", \"1983\", \"1984\", \"1985\", \"1986\", \"1987\", \"1988\", \"1989\", \"1990\", \"1991\", \"1992\", \"1993\", \"1994\", \"1995\", \"1996\", \"1997\", \"1998\", \"1999\", \"2000\", \"2001\", \"2002\", \"2003\", \"2004\", \"2005\", \"2006\", \"2007\", \"2008\", \"2009\", \"2010\", \"2011\", \"2012\", \"2013\", \"2014\", \"2015\", \"2016\", \"2017\", \"nan\"], \"y\": [8394751.0, 22000000.0, 650422.0, 2179000.0, 8000000.0, 25.0, 2240500.0, 4500000.0, 3202000.0, 5618000.0, 92462743.0, 5716550.5, 147843808.66666666, 36558400.0, 6000000.0, 138954825.0, 6127500.0, 6783000.0, 17898041.333333332, 2600000.0, 3989333.3333333335, 6600000.0, 8000000.0, 16333333.333333334, 12800000.0, 20000000.0, 13267960.25, 3500000.0, 11266666.666666666, 17150000.0, 17570324.0, 16666666.666666666, 22466666.666666668, 14891364.4, 30010747.285714287, 35730404.5, 34701446.0, 69344564.125, 9891666.666666666, 31948084.5, 18755447.7, 31438585.4, 20668065.75, 29624179.8, 32375855.666666668, 106621070.22222222, 48270896.75, 109082928.33333333, 33148207.777777776, 91259932.5, 68536915.07142857, 61859555.6875, 58681020.5, 39846320.18181818, 77176612.25, 68410945.3478261, 62632435.0, 53529476.60714286, 57765114.84615385, 50236489.32258064, 62359282.838709675, 83964737.53125, 133233512.20689656, 88803583.06666666, 110497217.76470588, 82594738.44680852, 107795500.07272728, 88673473.18571429, 70185644.44329897, 86024520.53571428, 61827827.323308274, 60425385.43274854, 65977218.89759036, 72512949.66666667, 71969741.65517241, 84102482.0, 79797483.17156863, 69127727.8611111, 70791032.9787234, 84572418.74358974, 79940439.66079295, 85661184.98373984, 90438110.08, 92832938.5837104, 116065914.64423077, 101348455.82251082, 101346599.11344537, 106425346.82710281, 139049586.03846154, 0.0, 0.0], \"type\": \"scatter\", \"uid\": \"1d7c5675-c0af-11e8-bef8-9cad97a9b18b\"}], {\"title\": \"Average revenue following months\", \"xaxis\": {\"title\": \"Year\"}, \"yaxis\": {\"title\": \"Revenue\"}}, {\"showLink\": true, \"linkText\": \"Export to plot.ly\"})});</script>"
      ]
     },
     "metadata": {},
     "output_type": "display_data"
    }
   ],
   "source": [
    "year_table = eval_table.groupby('Year').mean() \n",
    "table = [\n",
    "    go.Scatter(\n",
    "        x=year_table.index.values, # The year now is the index in eval_Table\n",
    "        y=year_table.Revenue\n",
    "    )\n",
    "]\n",
    "layout = go.Layout(\n",
    "    title='Average revenue following months',\n",
    "    yaxis=dict(title='Revenue'),\n",
    "    xaxis=dict(title='Year')\n",
    ")\n",
    "\n",
    "fig = go.Figure(data=table, layout=layout)\n",
    "iplot(fig)"
   ]
  }
 ],
 "metadata": {
  "kernelspec": {
   "display_name": "Python 3",
   "language": "python",
   "name": "python3"
  },
  "language_info": {
   "codemirror_mode": {
    "name": "ipython",
    "version": 3
   },
   "file_extension": ".py",
   "mimetype": "text/x-python",
   "name": "python",
   "nbconvert_exporter": "python",
   "pygments_lexer": "ipython3",
   "version": "3.6.5"
  }
 },
 "nbformat": 4,
 "nbformat_minor": 2
}
